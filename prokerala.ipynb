{
 "cells": [
  {
   "cell_type": "code",
   "execution_count": 1086,
   "metadata": {},
   "outputs": [],
   "source": [
    "from autoscraper import AutoScraper\n",
    "url=\"https://www.prokerala.com/automobile/kia/dealers/in-hyderabad.html\"\n",
    "wantedlist=[\"1. Automotive Kia\",\"Sy. #141-144, Block #1, Old VillageNagole, Uppal Mandal, LB Nagar Municipality RR District, Hyderabad, Telangana - 500068\"\n",
    "           ,\"+91 6309908118\",\"crmsales.kiangl@automotiveml.com\",\"https://automotive-kia.in.kia\"]"
   ]
  },
  {
   "cell_type": "code",
   "execution_count": 1087,
   "metadata": {},
   "outputs": [
    {
     "name": "stdout",
     "output_type": "stream",
     "text": [
      "['1. Automotive Kia', '2. Automotive Kia', '3. Car Kia', '4. Vihaan Auto', '5. Vihaan Auto', 'Sy. #141-144, Block #1, Old VillageNagole, Uppal Mandal, LB Nagar Municipality RR District, Hyderabad, Telangana - 500068', 'Sy #60, 71 to 77, Plot #14, 29, 30 & 31, Kondapur Village, Serilngapally Mandal, Ranga, Reddy District, Hyderabad, Telangana', 'Plot #796, Road #36, Jubilee Hills, Hyderabad, Telangana - 500033', 'Ground Floor, KKR Commercial Complex, Kukatpally, Y Junction, Hyderabad, Telangana - 500072', 'NCL Pearl, #10-3-162, Opposite Hyderabd Bhavan ( Near Rail Nilayam ), Sarojini Devi Road ( S. D. Road ), Secunderabad, Hyderabad, Telangana', '+91 6309908118', '+91 6309908117', '+91 7997720333', '+91 9394812345', '+91 9738312345', 'crmsales.kiangl@automotiveml.com', 'gmsales.kiaknd@automotiveml.com', 'enquiry.sales@carkia.in', 'salesheadkukatpally@vihaankia.in', 'salesheadsecunderabad@vihaankia.in', 'https://automotive-kia.in.kia', 'https://car-kia.in.kia', 'https://vihaan-auto.in.kia']\n"
     ]
    }
   ],
   "source": [
    "scraper=AutoScraper()\n",
    "res=scraper.build(url,wantedlist)\n",
    "print(res)"
   ]
  },
  {
   "cell_type": "code",
   "execution_count": 1088,
   "metadata": {},
   "outputs": [
    {
     "data": {
      "text/plain": [
       "{'rule_ffv3': ['1. Automotive Kia',\n",
       "  '2. Automotive Kia',\n",
       "  '3. Car Kia',\n",
       "  '4. Vihaan Auto',\n",
       "  '5. Vihaan Auto'],\n",
       " 'rule_jch6': ['Sy. #141-144, Block #1, Old VillageNagole, Uppal Mandal, LB Nagar Municipality RR District, Hyderabad, Telangana - 500068',\n",
       "  'Sy #60, 71 to 77, Plot #14, 29, 30 & 31, Kondapur Village, Serilngapally Mandal, Ranga, Reddy District, Hyderabad, Telangana',\n",
       "  'Plot #796, Road #36, Jubilee Hills, Hyderabad, Telangana - 500033',\n",
       "  'Ground Floor, KKR Commercial Complex, Kukatpally, Y Junction, Hyderabad, Telangana - 500072',\n",
       "  'NCL Pearl, #10-3-162, Opposite Hyderabd Bhavan ( Near Rail Nilayam ), Sarojini Devi Road ( S. D. Road ), Secunderabad, Hyderabad, Telangana'],\n",
       " 'rule_sq1l': ['+91 6309908118',\n",
       "  '+91 6309908117',\n",
       "  '+91 7997720333',\n",
       "  '+91 9394812345',\n",
       "  '+91 9738312345'],\n",
       " 'rule_qkeu': ['crmsales.kiangl@automotiveml.com',\n",
       "  'gmsales.kiaknd@automotiveml.com',\n",
       "  'enquiry.sales@carkia.in',\n",
       "  'salesheadkukatpally@vihaankia.in',\n",
       "  'salesheadsecunderabad@vihaankia.in'],\n",
       " 'rule_2a0k': ['https://automotive-kia.in.kia',\n",
       "  'https://automotive-kia.in.kia',\n",
       "  'https://car-kia.in.kia',\n",
       "  'https://vihaan-auto.in.kia',\n",
       "  'https://vihaan-auto.in.kia'],\n",
       " 'rule_xozq': ['https://automotive-kia.in.kia',\n",
       "  'https://automotive-kia.in.kia',\n",
       "  'https://car-kia.in.kia',\n",
       "  'https://vihaan-auto.in.kia',\n",
       "  'https://vihaan-auto.in.kia']}"
      ]
     },
     "execution_count": 1088,
     "metadata": {},
     "output_type": "execute_result"
    }
   ],
   "source": [
    "result=scraper.get_result_similar(url,grouped=True)\n",
    "result"
   ]
  },
  {
   "cell_type": "code",
   "execution_count": 1089,
   "metadata": {},
   "outputs": [],
   "source": [
    "scraper.set_rule_aliases({\"rule_ffv3\":\"Showroom\",\"rule_jch6\":\"Address\",\"rule_sq1l\":\"Mobile\",\"rule_qkeu\":\"Mail\",\"rule_2a0k\":\"Website\"})\n",
    "scraper.keep_rules([\"rule_ffv3\",\"rule_jch6\",\"rule_sq1l\",\"rule_qkeu\",\"rule_2a0k\"])\n",
    "scraper.save(\"cars\")"
   ]
  },
  {
   "cell_type": "code",
   "execution_count": 4785,
   "metadata": {},
   "outputs": [],
   "source": [
    "resultss=scraper.get_result_similar(\"https://www.prokerala.com/automobile/volkswagen/dealers/in-kolkata.html\",group_by_alias=True)"
   ]
  },
  {
   "cell_type": "code",
   "execution_count": 4786,
   "metadata": {},
   "outputs": [
    {
     "data": {
      "text/plain": [
       "{'Showroom': ['1. Vibrant Motors Private Limited',\n",
       "  '2. Vibrant Motors Private Limited',\n",
       "  '3. Vibrant Motors Private Limited',\n",
       "  '4. Vibrant Motors Private Limited',\n",
       "  '5. Bagaria Motors Private Limited',\n",
       "  '6. Bagaria Motors Private Limited'],\n",
       " 'Address': ['Plot #11 D,\\n13-14,\\nMajor Arterial Road,\\nRajarhat\\nKolkata\\nWest Bengal - 700156',\n",
       "  '225 C AJC Bose Road\\nKolkata\\nWest Bengal - 700020',\n",
       "  '13 BBT Road Mehmanpur Kolkata\\nKolkata\\nWest Bengal - 700139',\n",
       "  '149,\\nBT. Road,\\nNear ASG Eye Hospital,\\nKamarhati\\nKolkata\\nWest Bengal - 700058',\n",
       "  '7 A,\\nRameshwar Shaw Road\\nKolkata\\nWest Bengal - 700014',\n",
       "  '2-3,\\nJudges Court Road\\nKolkata\\nWest Bengal - 700027'],\n",
       " 'Mobile': ['+91 8527240354',\n",
       "  '+91 8527234972',\n",
       "  '+91 3324900023',\n",
       "  '+91 9311503379',\n",
       "  '+91 3340212700',\n",
       "  '+91 8527240132'],\n",
       " 'Mail': [],\n",
       " 'Website': []}"
      ]
     },
     "execution_count": 4786,
     "metadata": {},
     "output_type": "execute_result"
    }
   ],
   "source": [
    "resultss"
   ]
  },
  {
   "cell_type": "code",
   "execution_count": 4787,
   "metadata": {},
   "outputs": [],
   "source": [
    "import pandas as pd\n",
    "df1 = pd.DataFrame.from_dict(resultss, orient='index')\n",
    "df1 = df1.transpose()\n",
    "df1[\"City\"]=\"Kolkata\"\n",
    "df1[\"State\"]=\"West Bengal\""
   ]
  },
  {
   "cell_type": "code",
   "execution_count": 4788,
   "metadata": {},
   "outputs": [],
   "source": [
    "#df77.to_csv(\"C:\\\\Users\\\\Praneeth\\\\Desktop\\\\data scrapping\\\\cardealers\\\\Volkswagen\\\\Volkswagen.csv\")"
   ]
  },
  {
   "cell_type": "code",
   "execution_count": 4789,
   "metadata": {},
   "outputs": [
    {
     "data": {
      "text/html": [
       "<div>\n",
       "<style scoped>\n",
       "    .dataframe tbody tr th:only-of-type {\n",
       "        vertical-align: middle;\n",
       "    }\n",
       "\n",
       "    .dataframe tbody tr th {\n",
       "        vertical-align: top;\n",
       "    }\n",
       "\n",
       "    .dataframe thead th {\n",
       "        text-align: right;\n",
       "    }\n",
       "</style>\n",
       "<table border=\"1\" class=\"dataframe\">\n",
       "  <thead>\n",
       "    <tr style=\"text-align: right;\">\n",
       "      <th></th>\n",
       "      <th>Showroom</th>\n",
       "      <th>Address</th>\n",
       "      <th>Mobile</th>\n",
       "      <th>Mail</th>\n",
       "      <th>Website</th>\n",
       "      <th>City</th>\n",
       "      <th>State</th>\n",
       "    </tr>\n",
       "  </thead>\n",
       "  <tbody>\n",
       "    <tr>\n",
       "      <th>0</th>\n",
       "      <td>1. Vibrant Motors Private Limited</td>\n",
       "      <td>Plot #11 D,\\n13-14,\\nMajor Arterial Road,\\nRaj...</td>\n",
       "      <td>+91 8527240354</td>\n",
       "      <td>None</td>\n",
       "      <td>None</td>\n",
       "      <td>Kolkata</td>\n",
       "      <td>West Bengal</td>\n",
       "    </tr>\n",
       "    <tr>\n",
       "      <th>1</th>\n",
       "      <td>2. Vibrant Motors Private Limited</td>\n",
       "      <td>225 C AJC Bose Road\\nKolkata\\nWest Bengal - 70...</td>\n",
       "      <td>+91 8527234972</td>\n",
       "      <td>None</td>\n",
       "      <td>None</td>\n",
       "      <td>Kolkata</td>\n",
       "      <td>West Bengal</td>\n",
       "    </tr>\n",
       "    <tr>\n",
       "      <th>2</th>\n",
       "      <td>3. Vibrant Motors Private Limited</td>\n",
       "      <td>13 BBT Road Mehmanpur Kolkata\\nKolkata\\nWest B...</td>\n",
       "      <td>+91 3324900023</td>\n",
       "      <td>None</td>\n",
       "      <td>None</td>\n",
       "      <td>Kolkata</td>\n",
       "      <td>West Bengal</td>\n",
       "    </tr>\n",
       "    <tr>\n",
       "      <th>3</th>\n",
       "      <td>4. Vibrant Motors Private Limited</td>\n",
       "      <td>149,\\nBT. Road,\\nNear ASG Eye Hospital,\\nKamar...</td>\n",
       "      <td>+91 9311503379</td>\n",
       "      <td>None</td>\n",
       "      <td>None</td>\n",
       "      <td>Kolkata</td>\n",
       "      <td>West Bengal</td>\n",
       "    </tr>\n",
       "    <tr>\n",
       "      <th>4</th>\n",
       "      <td>5. Bagaria Motors Private Limited</td>\n",
       "      <td>7 A,\\nRameshwar Shaw Road\\nKolkata\\nWest Benga...</td>\n",
       "      <td>+91 3340212700</td>\n",
       "      <td>None</td>\n",
       "      <td>None</td>\n",
       "      <td>Kolkata</td>\n",
       "      <td>West Bengal</td>\n",
       "    </tr>\n",
       "    <tr>\n",
       "      <th>5</th>\n",
       "      <td>6. Bagaria Motors Private Limited</td>\n",
       "      <td>2-3,\\nJudges Court Road\\nKolkata\\nWest Bengal ...</td>\n",
       "      <td>+91 8527240132</td>\n",
       "      <td>None</td>\n",
       "      <td>None</td>\n",
       "      <td>Kolkata</td>\n",
       "      <td>West Bengal</td>\n",
       "    </tr>\n",
       "  </tbody>\n",
       "</table>\n",
       "</div>"
      ],
      "text/plain": [
       "                            Showroom  \\\n",
       "0  1. Vibrant Motors Private Limited   \n",
       "1  2. Vibrant Motors Private Limited   \n",
       "2  3. Vibrant Motors Private Limited   \n",
       "3  4. Vibrant Motors Private Limited   \n",
       "4  5. Bagaria Motors Private Limited   \n",
       "5  6. Bagaria Motors Private Limited   \n",
       "\n",
       "                                             Address          Mobile  Mail  \\\n",
       "0  Plot #11 D,\\n13-14,\\nMajor Arterial Road,\\nRaj...  +91 8527240354  None   \n",
       "1  225 C AJC Bose Road\\nKolkata\\nWest Bengal - 70...  +91 8527234972  None   \n",
       "2  13 BBT Road Mehmanpur Kolkata\\nKolkata\\nWest B...  +91 3324900023  None   \n",
       "3  149,\\nBT. Road,\\nNear ASG Eye Hospital,\\nKamar...  +91 9311503379  None   \n",
       "4  7 A,\\nRameshwar Shaw Road\\nKolkata\\nWest Benga...  +91 3340212700  None   \n",
       "5  2-3,\\nJudges Court Road\\nKolkata\\nWest Bengal ...  +91 8527240132  None   \n",
       "\n",
       "  Website     City        State  \n",
       "0    None  Kolkata  West Bengal  \n",
       "1    None  Kolkata  West Bengal  \n",
       "2    None  Kolkata  West Bengal  \n",
       "3    None  Kolkata  West Bengal  \n",
       "4    None  Kolkata  West Bengal  \n",
       "5    None  Kolkata  West Bengal  "
      ]
     },
     "execution_count": 4789,
     "metadata": {},
     "output_type": "execute_result"
    }
   ],
   "source": [
    "df1"
   ]
  },
  {
   "cell_type": "code",
   "execution_count": 4790,
   "metadata": {},
   "outputs": [
    {
     "data": {
      "text/html": [
       "<div>\n",
       "<style scoped>\n",
       "    .dataframe tbody tr th:only-of-type {\n",
       "        vertical-align: middle;\n",
       "    }\n",
       "\n",
       "    .dataframe tbody tr th {\n",
       "        vertical-align: top;\n",
       "    }\n",
       "\n",
       "    .dataframe thead th {\n",
       "        text-align: right;\n",
       "    }\n",
       "</style>\n",
       "<table border=\"1\" class=\"dataframe\">\n",
       "  <thead>\n",
       "    <tr style=\"text-align: right;\">\n",
       "      <th></th>\n",
       "      <th>Showroom</th>\n",
       "      <th>Address</th>\n",
       "      <th>Mobile</th>\n",
       "      <th>Mail</th>\n",
       "      <th>Website</th>\n",
       "      <th>City</th>\n",
       "      <th>State</th>\n",
       "    </tr>\n",
       "  </thead>\n",
       "  <tbody>\n",
       "    <tr>\n",
       "      <th>0</th>\n",
       "      <td>1. Vibrant Motors Private Limited</td>\n",
       "      <td>Plot #11 D,\\n13-14,\\nMajor Arterial Road,\\nRaj...</td>\n",
       "      <td>+91 8527240354</td>\n",
       "      <td>None</td>\n",
       "      <td>None</td>\n",
       "      <td>Kolkata</td>\n",
       "      <td>West Bengal</td>\n",
       "    </tr>\n",
       "    <tr>\n",
       "      <th>1</th>\n",
       "      <td>2. Vibrant Motors Private Limited</td>\n",
       "      <td>225 C AJC Bose Road\\nKolkata\\nWest Bengal - 70...</td>\n",
       "      <td>+91 8527234972</td>\n",
       "      <td>None</td>\n",
       "      <td>None</td>\n",
       "      <td>Kolkata</td>\n",
       "      <td>West Bengal</td>\n",
       "    </tr>\n",
       "    <tr>\n",
       "      <th>2</th>\n",
       "      <td>3. Vibrant Motors Private Limited</td>\n",
       "      <td>13 BBT Road Mehmanpur Kolkata\\nKolkata\\nWest B...</td>\n",
       "      <td>+91 3324900023</td>\n",
       "      <td>None</td>\n",
       "      <td>None</td>\n",
       "      <td>Kolkata</td>\n",
       "      <td>West Bengal</td>\n",
       "    </tr>\n",
       "    <tr>\n",
       "      <th>3</th>\n",
       "      <td>4. Vibrant Motors Private Limited</td>\n",
       "      <td>149,\\nBT. Road,\\nNear ASG Eye Hospital,\\nKamar...</td>\n",
       "      <td>+91 9311503379</td>\n",
       "      <td>None</td>\n",
       "      <td>None</td>\n",
       "      <td>Kolkata</td>\n",
       "      <td>West Bengal</td>\n",
       "    </tr>\n",
       "    <tr>\n",
       "      <th>4</th>\n",
       "      <td>5. Bagaria Motors Private Limited</td>\n",
       "      <td>7 A,\\nRameshwar Shaw Road\\nKolkata\\nWest Benga...</td>\n",
       "      <td>+91 3340212700</td>\n",
       "      <td>None</td>\n",
       "      <td>None</td>\n",
       "      <td>Kolkata</td>\n",
       "      <td>West Bengal</td>\n",
       "    </tr>\n",
       "    <tr>\n",
       "      <th>5</th>\n",
       "      <td>6. Bagaria Motors Private Limited</td>\n",
       "      <td>2-3,\\nJudges Court Road\\nKolkata\\nWest Bengal ...</td>\n",
       "      <td>+91 8527240132</td>\n",
       "      <td>None</td>\n",
       "      <td>None</td>\n",
       "      <td>Kolkata</td>\n",
       "      <td>West Bengal</td>\n",
       "    </tr>\n",
       "  </tbody>\n",
       "</table>\n",
       "</div>"
      ],
      "text/plain": [
       "                            Showroom  \\\n",
       "0  1. Vibrant Motors Private Limited   \n",
       "1  2. Vibrant Motors Private Limited   \n",
       "2  3. Vibrant Motors Private Limited   \n",
       "3  4. Vibrant Motors Private Limited   \n",
       "4  5. Bagaria Motors Private Limited   \n",
       "5  6. Bagaria Motors Private Limited   \n",
       "\n",
       "                                             Address          Mobile  Mail  \\\n",
       "0  Plot #11 D,\\n13-14,\\nMajor Arterial Road,\\nRaj...  +91 8527240354  None   \n",
       "1  225 C AJC Bose Road\\nKolkata\\nWest Bengal - 70...  +91 8527234972  None   \n",
       "2  13 BBT Road Mehmanpur Kolkata\\nKolkata\\nWest B...  +91 3324900023  None   \n",
       "3  149,\\nBT. Road,\\nNear ASG Eye Hospital,\\nKamar...  +91 9311503379  None   \n",
       "4  7 A,\\nRameshwar Shaw Road\\nKolkata\\nWest Benga...  +91 3340212700  None   \n",
       "5  2-3,\\nJudges Court Road\\nKolkata\\nWest Bengal ...  +91 8527240132  None   \n",
       "\n",
       "  Website     City        State  \n",
       "0    None  Kolkata  West Bengal  \n",
       "1    None  Kolkata  West Bengal  \n",
       "2    None  Kolkata  West Bengal  \n",
       "3    None  Kolkata  West Bengal  \n",
       "4    None  Kolkata  West Bengal  \n",
       "5    None  Kolkata  West Bengal  "
      ]
     },
     "execution_count": 4790,
     "metadata": {},
     "output_type": "execute_result"
    }
   ],
   "source": [
    "df10 = df1\n",
    "df10\n",
    "#df10.to_csv(\"C:\\\\Users\\\\Praneeth\\\\Desktop\\\\data scrapping\\\\cardealers\\\\Renault\\\\Renault.csv\")"
   ]
  },
  {
   "cell_type": "code",
   "execution_count": 4791,
   "metadata": {},
   "outputs": [],
   "source": [
    "df11=pd.read_csv(\"C:\\\\Users\\\\Praneeth\\\\Desktop\\\\data scrapping\\\\cardealers\\\\Renault\\\\Renault.csv\")\n",
    "df11=df11.append(df10,ignore_index=True)\n",
    "#df99.to_csv(\"C:\\\\Users\\\\Praneeth\\\\Desktop\\\\data scrapping\\\\cardealers\\\\Volkswagen\\\\Volkswagen.csv\")"
   ]
  },
  {
   "cell_type": "code",
   "execution_count": null,
   "metadata": {},
   "outputs": [],
   "source": []
  },
  {
   "cell_type": "code",
   "execution_count": 4793,
   "metadata": {},
   "outputs": [],
   "source": [
    "df11.to_csv(\"C:\\\\Users\\\\Praneeth\\\\Desktop\\\\data scrapping\\\\cardealers\\\\Renault\\\\Renault.csv\")"
   ]
  },
  {
   "cell_type": "code",
   "execution_count": null,
   "metadata": {},
   "outputs": [],
   "source": []
  },
  {
   "cell_type": "code",
   "execution_count": null,
   "metadata": {},
   "outputs": [],
   "source": []
  },
  {
   "cell_type": "code",
   "execution_count": null,
   "metadata": {},
   "outputs": [],
   "source": []
  },
  {
   "cell_type": "code",
   "execution_count": null,
   "metadata": {},
   "outputs": [],
   "source": []
  },
  {
   "cell_type": "code",
   "execution_count": null,
   "metadata": {},
   "outputs": [],
   "source": []
  },
  {
   "cell_type": "code",
   "execution_count": null,
   "metadata": {},
   "outputs": [],
   "source": []
  },
  {
   "cell_type": "code",
   "execution_count": null,
   "metadata": {},
   "outputs": [],
   "source": []
  },
  {
   "cell_type": "code",
   "execution_count": null,
   "metadata": {},
   "outputs": [],
   "source": []
  },
  {
   "cell_type": "code",
   "execution_count": null,
   "metadata": {},
   "outputs": [],
   "source": []
  },
  {
   "cell_type": "code",
   "execution_count": null,
   "metadata": {},
   "outputs": [],
   "source": []
  },
  {
   "cell_type": "code",
   "execution_count": null,
   "metadata": {},
   "outputs": [],
   "source": []
  },
  {
   "cell_type": "code",
   "execution_count": null,
   "metadata": {},
   "outputs": [],
   "source": []
  },
  {
   "cell_type": "code",
   "execution_count": 4,
   "metadata": {},
   "outputs": [],
   "source": []
  },
  {
   "cell_type": "code",
   "execution_count": null,
   "metadata": {},
   "outputs": [],
   "source": []
  },
  {
   "cell_type": "code",
   "execution_count": null,
   "metadata": {},
   "outputs": [],
   "source": []
  }
 ],
 "metadata": {
  "kernelspec": {
   "display_name": "Python 3",
   "language": "python",
   "name": "python3"
  },
  "language_info": {
   "codemirror_mode": {
    "name": "ipython",
    "version": 3
   },
   "file_extension": ".py",
   "mimetype": "text/x-python",
   "name": "python",
   "nbconvert_exporter": "python",
   "pygments_lexer": "ipython3",
   "version": "3.8.3"
  }
 },
 "nbformat": 4,
 "nbformat_minor": 4
}
